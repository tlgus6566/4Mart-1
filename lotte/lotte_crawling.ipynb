{
 "cells": [
  {
   "cell_type": "code",
   "execution_count": 1,
   "metadata": {},
   "outputs": [],
   "source": [
    "import time\n",
    "import requests\n",
    "import matplotlib\n",
    "import matplotlib.pyplot as plt\n",
    "import numpy as np\n",
    "import seaborn as sn\n",
    "import pandas as pd\n",
    "import matplotlib.font_manager as fm\n",
    "import urllib.request\n",
    "\n",
    "\n",
    "from selenium.webdriver.common.by import By\n",
    "from selenium import webdriver\n",
    "from matplotlib import rc\n",
    "from bs4 import BeautifulSoup\n",
    "from urllib.request import urlopen"
   ]
  },
  {
   "cell_type": "code",
   "execution_count": 2,
   "metadata": {},
   "outputs": [
    {
     "name": "stderr",
     "output_type": "stream",
     "text": [
      "C:\\Users\\admin\\AppData\\Local\\Temp\\ipykernel_15144\\2769578062.py:4: DeprecationWarning: executable_path has been deprecated, please pass in a Service object\n",
      "  wd = webdriver.Chrome('./chromedriver.exe', options=options)\n"
     ]
    }
   ],
   "source": [
    "options = webdriver.ChromeOptions()\n",
    "options.add_experimental_option('excludeSwitches', ['enable-logging'])\n",
    "\n",
    "wd = webdriver.Chrome('./chromedriver.exe', options=options) "
   ]
  },
  {
   "cell_type": "code",
   "execution_count": 3,
   "metadata": {},
   "outputs": [],
   "source": [
    "lotte_url = 'https://www.lotteon.com/p/lotteplus/offlinestore/offLineStoreInfo?mall_no=4'\n",
    "wd.get(lotte_url)"
   ]
  },
  {
   "cell_type": "code",
   "execution_count": 7,
   "metadata": {},
   "outputs": [],
   "source": [
    "wd.find_element(By.XPATH,'//*[@id=\"content\"]/div/div/div[2]/div[1]/div/ul/li[1]').click()\n",
    "time.sleep(2)\n",
    "wd.find_element(By.XPATH,'//*[@id=\"content\"]/div/div/div[2]/div[2]/div/table/tr[2]/td[2]').click()"
   ]
  },
  {
   "cell_type": "code",
   "execution_count": 8,
   "metadata": {},
   "outputs": [
    {
     "data": {
      "text/plain": [
       "(112,\n",
       " <tr class=\"storeContents\"><td><a href=\"#\">롯데마트 TRU동부산점</a></td><td>부산광역시 기장군 기장읍 기장해안로 147 롯데몰동부산점 3층</td><td><a class=\"tel\" href=\"tel:0519222500\">051-922-2500</a></td></tr>)"
      ]
     },
     "execution_count": 8,
     "metadata": {},
     "output_type": "execute_result"
    }
   ],
   "source": [
    "req = wd.page_source\n",
    "soup = BeautifulSoup(req, \"html.parser\")\n",
    "info = soup.find('div', class_ = 'storeList').find_all('tr', class_ = 'storeContents')\n",
    "len(info), info[0]"
   ]
  },
  {
   "cell_type": "code",
   "execution_count": 26,
   "metadata": {},
   "outputs": [
    {
     "data": {
      "text/plain": [
       "('롯데마트 TRU동부산점', '051-922-2500')"
      ]
     },
     "execution_count": 26,
     "metadata": {},
     "output_type": "execute_result"
    }
   ],
   "source": [
    "# name = info[0],soup.find_all('td')\n",
    "name = info[0].find('td').text.strip()\n",
    "# address = info[0].find('t')\n",
    "tell = info[0].find(class_=\"tel\").text.strip()\n",
    "\n",
    "# //*[@id=\"content\"]/div/div/div[2]/div[2]/div/table/tr[2]/td[2]\n",
    "\n",
    "name,tell"
   ]
  },
  {
   "cell_type": "code",
   "execution_count": null,
   "metadata": {},
   "outputs": [],
   "source": []
  }
 ],
 "metadata": {
  "kernelspec": {
   "display_name": "Python 3.10.5 64-bit",
   "language": "python",
   "name": "python3"
  },
  "language_info": {
   "codemirror_mode": {
    "name": "ipython",
    "version": 3
   },
   "file_extension": ".py",
   "mimetype": "text/x-python",
   "name": "python",
   "nbconvert_exporter": "python",
   "pygments_lexer": "ipython3",
   "version": "3.10.5"
  },
  "orig_nbformat": 4,
  "vscode": {
   "interpreter": {
    "hash": "beedbe2faf2f7048d727558d0bc3221e7eba2a0b921cac4d4771b2feb8f74b30"
   }
  }
 },
 "nbformat": 4,
 "nbformat_minor": 2
}
