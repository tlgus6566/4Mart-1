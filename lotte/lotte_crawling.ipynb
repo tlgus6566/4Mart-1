{
 "cells": [
  {
   "cell_type": "code",
   "execution_count": 1,
   "metadata": {},
   "outputs": [],
   "source": [
    "import time\n",
    "import requests\n",
    "import matplotlib\n",
    "import matplotlib.pyplot as plt\n",
    "import numpy as np\n",
    "import seaborn as sn\n",
    "import pandas as pd\n",
    "import matplotlib.font_manager as fm\n",
    "import urllib.request\n",
    "\n",
    "\n",
    "from selenium.webdriver.common.by import By\n",
    "from selenium import webdriver\n",
    "from matplotlib import rc\n",
    "from bs4 import BeautifulSoup\n",
    "from urllib.request import urlopen"
   ]
  },
  {
   "cell_type": "code",
   "execution_count": 16,
   "metadata": {},
   "outputs": [
    {
     "name": "stderr",
     "output_type": "stream",
     "text": [
      "C:\\Users\\admin\\AppData\\Local\\Temp\\ipykernel_2116\\1387487464.py:3: DeprecationWarning: executable_path has been deprecated, please pass in a Service object\n",
      "  wd = webdriver.Chrome('./chromedriver.exe', options=options)\n"
     ]
    }
   ],
   "source": [
    "options = webdriver.ChromeOptions()\n",
    "options.add_experimental_option('excludeSwitches', ['enable-logging'])\n",
    "wd = webdriver.Chrome('./chromedriver.exe', options=options) "
   ]
  },
  {
   "cell_type": "code",
   "execution_count": 17,
   "metadata": {},
   "outputs": [
    {
     "name": "stdout",
     "output_type": "stream",
     "text": [
      "롯데마트 TRU동부산점\n",
      "부산광역시 기장군 기장읍 기장해안로 147 롯데몰동부산점 3층\n",
      "롯데마트 TRU파주점\n",
      "경기도 파주시 문발로 302 A블럭 3층(문발동, 롯데프리미엄아울렛)\n",
      "롯데마트 marketD수원점\n",
      "경기도 수원시 권선구 세화로 134 롯데마트 \n"
     ]
    }
   ],
   "source": [
    "wd.get('https://www.lotteon.com/p/lotteplus/offlinestore/offLineStoreInfo?mall_no=4')\n",
    "time.sleep(0.3)\n",
    "\n",
    "for i in range(2, 5):\n",
    "    wd.find_element(By.XPATH,'//*[@id=\"content\"]/div/div/div[2]/div[1]/div/ul/li[1]/button').click()\n",
    "    time.sleep(0.3)\n",
    "    wd.find_element(By.XPATH,f'//*[@id=\"content\"]/div/div/div[2]/div[2]/div/table/tr[{i}]/td[1]/a').click()\n",
    "    time.sleep(0.3)\n",
    "    html = wd.page_source\n",
    "    soup = BeautifulSoup(html, 'html.parser')\n",
    "    store_name = soup.select('div.storeName ')[0].string.strip()\n",
    "    print(store_name)\n",
    "    store_address = soup.select('div.branchInfo > div.content')[0].string\n",
    "    print(store_address)\n",
    "    wd.find_element(By.XPATH,'//*[@id=\"modals-container\"]/div/div/div[2]/div/button').click()\n",
    "    time.sleep(0.3)\n",
    "    "
   ]
  },
  {
   "cell_type": "code",
   "execution_count": null,
   "metadata": {},
   "outputs": [],
   "source": []
  }
 ],
 "metadata": {
  "kernelspec": {
   "display_name": "Python 3.10.5 64-bit",
   "language": "python",
   "name": "python3"
  },
  "language_info": {
   "codemirror_mode": {
    "name": "ipython",
    "version": 3
   },
   "file_extension": ".py",
   "mimetype": "text/x-python",
   "name": "python",
   "nbconvert_exporter": "python",
   "pygments_lexer": "ipython3",
   "version": "3.10.5"
  },
  "orig_nbformat": 4,
  "vscode": {
   "interpreter": {
    "hash": "beedbe2faf2f7048d727558d0bc3221e7eba2a0b921cac4d4771b2feb8f74b30"
   }
  }
 },
 "nbformat": 4,
 "nbformat_minor": 2
}
