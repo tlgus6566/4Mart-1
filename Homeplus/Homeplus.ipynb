{
 "cells": [
  {
   "cell_type": "code",
   "execution_count": 11,
   "metadata": {},
   "outputs": [],
   "source": [
    "import time\n",
    "import requests\n",
    "import matplotlib\n",
    "import matplotlib.pyplot as plt\n",
    "import numpy as np\n",
    "import seaborn as sn\n",
    "import pandas as pd\n",
    "import matplotlib.font_manager as fm\n",
    "import urllib.request\n",
    "\n",
    "\n",
    "from selenium.webdriver.common.by import By\n",
    "from selenium import webdriver\n",
    "from matplotlib import rc\n",
    "from bs4 import BeautifulSoup\n",
    "from urllib.request import urlopen"
   ]
  },
  {
   "cell_type": "code",
   "execution_count": 45,
   "metadata": {},
   "outputs": [
    {
     "name": "stderr",
     "output_type": "stream",
     "text": [
      "C:\\Users\\admin\\AppData\\Local\\Temp\\ipykernel_21436\\1218337680.py:3: DeprecationWarning: executable_path has been deprecated, please pass in a Service object\n",
      "  wd = webdriver.Chrome('./chromedriver.exe',options=options)\n"
     ]
    }
   ],
   "source": [
    "options = webdriver.ChromeOptions()\n",
    "options.add_experimental_option('excludeSwitches', ['enable-logging'])\n",
    "wd = webdriver.Chrome('./chromedriver.exe',options=options)"
   ]
  },
  {
   "cell_type": "code",
   "execution_count": 46,
   "metadata": {},
   "outputs": [],
   "source": [
    "wd.get('https://corporate.homeplus.co.kr/STORE/HyperMarket.aspx')\n",
    "time.sleep(0.3)\n",
    "\n",
    "homeplus_info = []\n",
    "\n",
    "for i in range(1,135):\n",
    "    wd.find_element(By.XPATH,'//*[@id=\"ctl00_ContentPlaceHolder1_Region_Code\"]/option[2]').click() \n",
    "    time.sleep(0.3) #서울특별시 클릭\n",
    "    wd.find_element(By.XPATH,'//*[@id=\"ctl00_ContentPlaceHolder1_Region_Code\"]/option[1]').click() #서울특별시 클릭\n",
    "    time.sleep(0.3) #전체 클릭\n",
    "    # wd.find_element(By.XPATH, '//*[@id=\"content\"]/div/div/div/div[1]/div[2]/div[2]/input[2]').click()\n",
    "    # time.sleep(0.3) #클릭 후 돋보기\n",
    "    wd.find_element(By.XPATH,f'//*[@id=\"content\"]/div/div/div/ul/li[{i}]/div[1]/h3/span[2]/a').click()\n",
    "    time.sleep(1)\n",
    "    html = wd.page_source\n",
    "    soup = BeautifulSoup(html, 'html.parser')\n",
    "    store_name = soup.select('div.col-lg-4 > h3.type > span.name')[0].string.strip()\n",
    "    store_address = soup.select('div.tab-content > div#store_detail01 > table.table > tbody > tr > td')[0].string.rstrip()\n",
    "    homeplus_info.append([store_name]+[store_address])\n",
    "\n",
    "    wd.find_element(By.XPATH,'//*[@id=\"content\"]/div/div/div/div[3]/a').click()\n",
    "    time.sleep(0.3)"
   ]
  },
  {
   "cell_type": "code",
   "execution_count": 47,
   "metadata": {},
   "outputs": [
    {
     "data": {
      "text/plain": [
       "list"
      ]
     },
     "execution_count": 47,
     "metadata": {},
     "output_type": "execute_result"
    }
   ],
   "source": [
    "type(homeplus_info)"
   ]
  },
  {
   "cell_type": "code",
   "execution_count": 48,
   "metadata": {},
   "outputs": [],
   "source": [
    "columns = ['store','address']\n",
    "homeplus_df = pd.DataFrame(homeplus_info, columns=columns)"
   ]
  },
  {
   "cell_type": "code",
   "execution_count": 49,
   "metadata": {},
   "outputs": [
    {
     "data": {
      "text/html": [
       "<div>\n",
       "<style scoped>\n",
       "    .dataframe tbody tr th:only-of-type {\n",
       "        vertical-align: middle;\n",
       "    }\n",
       "\n",
       "    .dataframe tbody tr th {\n",
       "        vertical-align: top;\n",
       "    }\n",
       "\n",
       "    .dataframe thead th {\n",
       "        text-align: right;\n",
       "    }\n",
       "</style>\n",
       "<table border=\"1\" class=\"dataframe\">\n",
       "  <thead>\n",
       "    <tr style=\"text-align: right;\">\n",
       "      <th></th>\n",
       "      <th>store</th>\n",
       "      <th>address</th>\n",
       "    </tr>\n",
       "  </thead>\n",
       "  <tbody>\n",
       "    <tr>\n",
       "      <th>0</th>\n",
       "      <td>가양점</td>\n",
       "      <td>서울특별시 강서구 양천로 431</td>\n",
       "    </tr>\n",
       "    <tr>\n",
       "      <th>1</th>\n",
       "      <td>가좌점</td>\n",
       "      <td>인천광역시 서구 가정로 151번길 11</td>\n",
       "    </tr>\n",
       "    <tr>\n",
       "      <th>2</th>\n",
       "      <td>간석점</td>\n",
       "      <td>인천광역시 남동구 경원대로 971</td>\n",
       "    </tr>\n",
       "    <tr>\n",
       "      <th>3</th>\n",
       "      <td>강동점</td>\n",
       "      <td>서울특별시 강동구 양재대로 1571(메르디안 쇼핑센터)</td>\n",
       "    </tr>\n",
       "    <tr>\n",
       "      <th>4</th>\n",
       "      <td>강릉점</td>\n",
       "      <td>강원도 강릉시 경강로 2120</td>\n",
       "    </tr>\n",
       "    <tr>\n",
       "      <th>...</th>\n",
       "      <td>...</td>\n",
       "      <td>...</td>\n",
       "    </tr>\n",
       "    <tr>\n",
       "      <th>129</th>\n",
       "      <td>포항점</td>\n",
       "      <td>경상북도 포항시 남구 중흥로 77</td>\n",
       "    </tr>\n",
       "    <tr>\n",
       "      <th>130</th>\n",
       "      <td>합정점</td>\n",
       "      <td>서울시 마포구 양화로 45</td>\n",
       "    </tr>\n",
       "    <tr>\n",
       "      <th>131</th>\n",
       "      <td>해운대점</td>\n",
       "      <td>부산광역시 해운대구 해운대해변로 140</td>\n",
       "    </tr>\n",
       "    <tr>\n",
       "      <th>132</th>\n",
       "      <td>화성동탄점</td>\n",
       "      <td>경기도 화성시 동탄중앙로 200</td>\n",
       "    </tr>\n",
       "    <tr>\n",
       "      <th>133</th>\n",
       "      <td>화성향남점</td>\n",
       "      <td>경기도 화성시 향남읍 향남로 402</td>\n",
       "    </tr>\n",
       "  </tbody>\n",
       "</table>\n",
       "<p>134 rows × 2 columns</p>\n",
       "</div>"
      ],
      "text/plain": [
       "     store                         address\n",
       "0      가양점               서울특별시 강서구 양천로 431\n",
       "1      가좌점           인천광역시 서구 가정로 151번길 11\n",
       "2      간석점              인천광역시 남동구 경원대로 971\n",
       "3      강동점  서울특별시 강동구 양재대로 1571(메르디안 쇼핑센터)\n",
       "4      강릉점                강원도 강릉시 경강로 2120\n",
       "..     ...                             ...\n",
       "129    포항점              경상북도 포항시 남구 중흥로 77\n",
       "130    합정점                  서울시 마포구 양화로 45\n",
       "131   해운대점           부산광역시 해운대구 해운대해변로 140\n",
       "132  화성동탄점               경기도 화성시 동탄중앙로 200\n",
       "133  화성향남점             경기도 화성시 향남읍 향남로 402\n",
       "\n",
       "[134 rows x 2 columns]"
      ]
     },
     "execution_count": 49,
     "metadata": {},
     "output_type": "execute_result"
    }
   ],
   "source": [
    "homeplus_df"
   ]
  },
  {
   "cell_type": "code",
   "execution_count": 50,
   "metadata": {},
   "outputs": [
    {
     "name": "stdout",
     "output_type": "stream",
     "text": [
      "저장완료\n"
     ]
    }
   ],
   "source": [
    "homeplus_df.to_csv('./Homeplus_shop_info.csv', index=True, encoding='utf-8')\n",
    "print('저장완료')"
   ]
  },
  {
   "cell_type": "code",
   "execution_count": null,
   "metadata": {},
   "outputs": [],
   "source": []
  }
 ],
 "metadata": {
  "kernelspec": {
   "display_name": "Python 3.10.5 64-bit",
   "language": "python",
   "name": "python3"
  },
  "language_info": {
   "codemirror_mode": {
    "name": "ipython",
    "version": 3
   },
   "file_extension": ".py",
   "mimetype": "text/x-python",
   "name": "python",
   "nbconvert_exporter": "python",
   "pygments_lexer": "ipython3",
   "version": "3.10.5"
  },
  "orig_nbformat": 4,
  "vscode": {
   "interpreter": {
    "hash": "beedbe2faf2f7048d727558d0bc3221e7eba2a0b921cac4d4771b2feb8f74b30"
   }
  }
 },
 "nbformat": 4,
 "nbformat_minor": 2
}
