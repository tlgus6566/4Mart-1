{
 "cells": [
  {
   "cell_type": "code",
   "execution_count": 6,
   "metadata": {},
   "outputs": [],
   "source": [
    "import time\n",
    "import requests\n",
    "import matplotlib\n",
    "import matplotlib.pyplot as plt\n",
    "import numpy as np\n",
    "import seaborn as sn\n",
    "import pandas as pd\n",
    "import matplotlib.font_manager as fm\n",
    "import urllib.request\n",
    "\n",
    "\n",
    "from selenium.webdriver.common.by import By\n",
    "from selenium import webdriver\n",
    "from matplotlib import rc\n",
    "from bs4 import BeautifulSoup\n",
    "from urllib.request import urlopen"
   ]
  },
  {
   "cell_type": "code",
   "execution_count": 9,
   "metadata": {},
   "outputs": [
    {
     "name": "stderr",
     "output_type": "stream",
     "text": [
      "C:\\Users\\admin\\AppData\\Local\\Temp\\ipykernel_7640\\1218337680.py:3: DeprecationWarning: executable_path has been deprecated, please pass in a Service object\n",
      "  wd = webdriver.Chrome('./chromedriver.exe',options=options)\n"
     ]
    }
   ],
   "source": [
    "options = webdriver.ChromeOptions()\n",
    "options.add_experimental_option('excludeSwitches', ['enable-logging'])\n",
    "wd = webdriver.Chrome('./chromedriver.exe',options=options)"
   ]
  },
  {
   "cell_type": "code",
   "execution_count": 8,
   "metadata": {},
   "outputs": [
    {
     "name": "stdout",
     "output_type": "stream",
     "text": [
      "가양점\n",
      "강동점\n",
      "강서점\n",
      "금천점\n"
     ]
    }
   ],
   "source": [
    "wd.get('https://corporate.homeplus.co.kr/STORE/HyperMarket.aspx')\n",
    "time.sleep(0.3)\n",
    "\n",
    "for i in range(1,5):\n",
    "    \n",
    "    wd.find_element(By.XPATH,'//*[@id=\"ctl00_ContentPlaceHolder1_Region_Code\"]/option[2]').click()\n",
    "    time.sleep(0.3)\n",
    "    wd.find_element(By.XPATH,f'//*[@id=\"content\"]/div/div/div/ul/li[{i}]/div[1]/h3/span[2]/a').click()\n",
    "    time.sleep(0.3)\n",
    "    html = wd.page_source\n",
    "    soup = BeautifulSoup(html, 'html.parser')\n",
    "    store_name = soup.select('div.col-lg-4 > h3.type > span.name')[0].string.strip()\n",
    "    print(store_name)\n",
    "    wd.find_element(By.XPATH,'//*[@id=\"content\"]/div/div/div/div[3]/a').click()\n",
    "    time.sleep(0.3)"
   ]
  },
  {
   "cell_type": "code",
   "execution_count": 10,
   "metadata": {},
   "outputs": [
    {
     "name": "stdout",
     "output_type": "stream",
     "text": [
      "서울특별시 강서구 양천로 431\n",
      "서울특별시 강동구 양재대로 1571(메르디안 쇼핑센터)\n",
      "서울특별시 강서구 화곡로 398\n",
      "서울특별시 금천구 시흥대로 391\n"
     ]
    }
   ],
   "source": [
    "wd.get('https://corporate.homeplus.co.kr/STORE/HyperMarket.aspx')\n",
    "time.sleep(0.3)\n",
    "\n",
    "for i in range(1,5):\n",
    "    \n",
    "    wd.find_element(By.XPATH,'//*[@id=\"ctl00_ContentPlaceHolder1_Region_Code\"]/option[2]').click()\n",
    "    time.sleep(0.3)\n",
    "    wd.find_element(By.XPATH,f'//*[@id=\"content\"]/div/div/div/ul/li[{i}]/div[1]/h3/span[2]/a').click()\n",
    "    time.sleep(0.3)\n",
    "    html = wd.page_source\n",
    "    soup = BeautifulSoup(html, 'html.parser')\n",
    "    store_name = soup.select('div.col-lg-4 > h3.type > span.name')[0].string.strip()\n",
    "    # print(store_name)\n",
    "    store_address = soup.select('div.tab-content > div#store_detail01 > table.table > tbody > tr > td')[0].string.rstrip()\n",
    "    print(store_address)\n",
    "    wd.find_element(By.XPATH,'//*[@id=\"content\"]/div/div/div/div[3]/a').click()\n",
    "    time.sleep(0.3)\n"
   ]
  },
  {
   "cell_type": "code",
   "execution_count": null,
   "metadata": {},
   "outputs": [],
   "source": []
  }
 ],
 "metadata": {
  "kernelspec": {
   "display_name": "Python 3.10.5 64-bit",
   "language": "python",
   "name": "python3"
  },
  "language_info": {
   "codemirror_mode": {
    "name": "ipython",
    "version": 3
   },
   "file_extension": ".py",
   "mimetype": "text/x-python",
   "name": "python",
   "nbconvert_exporter": "python",
   "pygments_lexer": "ipython3",
   "version": "3.10.5"
  },
  "orig_nbformat": 4,
  "vscode": {
   "interpreter": {
    "hash": "beedbe2faf2f7048d727558d0bc3221e7eba2a0b921cac4d4771b2feb8f74b30"
   }
  }
 },
 "nbformat": 4,
 "nbformat_minor": 2
}
