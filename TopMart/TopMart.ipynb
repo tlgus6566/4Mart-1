{
 "cells": [
  {
   "cell_type": "code",
   "execution_count": 1,
   "metadata": {},
   "outputs": [],
   "source": [
    "import time\n",
    "import requests\n",
    "import matplotlib\n",
    "import matplotlib.pyplot as plt\n",
    "import numpy as np\n",
    "import seaborn as sn\n",
    "import re\n",
    "import pandas as pd\n",
    "from selenium.webdriver.common.by import By\n",
    "\n",
    "from selenium import webdriver\n",
    "from matplotlib import rc\n",
    "from bs4 import BeautifulSoup\n",
    "from urllib.request import urlopen\n",
    "from selenium.webdriver.common.by import By"
   ]
  },
  {
   "cell_type": "code",
   "execution_count": 8,
   "metadata": {},
   "outputs": [
    {
     "name": "stderr",
     "output_type": "stream",
     "text": [
      "C:\\Users\\admin\\AppData\\Local\\Temp\\ipykernel_3700\\1218337680.py:3: DeprecationWarning: executable_path has been deprecated, please pass in a Service object\n",
      "  wd = webdriver.Chrome('./chromedriver.exe',options=options)\n"
     ]
    }
   ],
   "source": [
    "options = webdriver.ChromeOptions()\n",
    "options.add_experimental_option('excludeSwitches', ['enable-logging'])\n",
    "wd = webdriver.Chrome('./chromedriver.exe',options=options)"
   ]
  },
  {
   "cell_type": "code",
   "execution_count": 12,
   "metadata": {},
   "outputs": [
    {
     "name": "stdout",
     "output_type": "stream",
     "text": [
      "051)418-2102~3\n",
      "055)345-0388~9\n",
      "탑마트 매장 크롤링 >>>\n"
     ]
    },
    {
     "ename": "NameError",
     "evalue": "name 'getTopMartStoreInfo' is not defined",
     "output_type": "error",
     "traceback": [
      "\u001b[1;31m---------------------------------------------------------------------------\u001b[0m",
      "\u001b[1;31mNameError\u001b[0m                                 Traceback (most recent call last)",
      "\u001b[1;32mc:\\MartRepository\\4Mart\\Homeplus\\Homeplus.ipynb Cell 3\u001b[0m in \u001b[0;36m<cell line: 23>\u001b[1;34m()\u001b[0m\n\u001b[0;32m     <a href='vscode-notebook-cell:/c%3A/MartRepository/4Mart/Homeplus/Homeplus.ipynb#W2sZmlsZQ%3D%3D?line=18'>19</a>\u001b[0m     getTopMartStoreInfo(result)\n\u001b[0;32m     <a href='vscode-notebook-cell:/c%3A/MartRepository/4Mart/Homeplus/Homeplus.ipynb#W2sZmlsZQ%3D%3D?line=22'>23</a>\u001b[0m \u001b[39mif\u001b[39;00m \u001b[39m__name__\u001b[39m \u001b[39m==\u001b[39m \u001b[39m'\u001b[39m\u001b[39m__main__\u001b[39m\u001b[39m'\u001b[39m:\n\u001b[1;32m---> <a href='vscode-notebook-cell:/c%3A/MartRepository/4Mart/Homeplus/Homeplus.ipynb#W2sZmlsZQ%3D%3D?line=23'>24</a>\u001b[0m     main()\n",
      "\u001b[1;32mc:\\MartRepository\\4Mart\\Homeplus\\Homeplus.ipynb Cell 3\u001b[0m in \u001b[0;36mmain\u001b[1;34m()\u001b[0m\n\u001b[0;32m     <a href='vscode-notebook-cell:/c%3A/MartRepository/4Mart/Homeplus/Homeplus.ipynb#W2sZmlsZQ%3D%3D?line=16'>17</a>\u001b[0m result \u001b[39m=\u001b[39m []\n\u001b[0;32m     <a href='vscode-notebook-cell:/c%3A/MartRepository/4Mart/Homeplus/Homeplus.ipynb#W2sZmlsZQ%3D%3D?line=17'>18</a>\u001b[0m \u001b[39mprint\u001b[39m(\u001b[39m'\u001b[39m\u001b[39m탑마트 매장 크롤링 >>>\u001b[39m\u001b[39m'\u001b[39m)\n\u001b[1;32m---> <a href='vscode-notebook-cell:/c%3A/MartRepository/4Mart/Homeplus/Homeplus.ipynb#W2sZmlsZQ%3D%3D?line=18'>19</a>\u001b[0m getTopMartStoreInfo(result)\n",
      "\u001b[1;31mNameError\u001b[0m: name 'getTopMartStoreInfo' is not defined"
     ]
    }
   ],
   "source": [
    "for i in range(21010, 21030+1):\n",
    "    wd.get('https://www.seowon.com/shopping/storeList')\n",
    "    time.sleep(0.3)\n",
    "\n",
    "    try:\n",
    "        wd.execute_script(f\"Shopping.getStoreInfo('{i}', ''); return false;\")\n",
    "        time.sleep(0.3) # 팝업표시 후에 크롤링이 안되서 브라우저가 닫히는 것을 방지하기 위함.\n",
    "        html = wd.page_source\n",
    "        soup = BeautifulSoup(html, 'html.parser')\n",
    "        store_contact = soup.select('table.table > tbody > tr > td#telNum')[0].string\n",
    "        print(store_contact)\n",
    "    except Exception as e:\n",
    "            continue\n",
    "\n",
    "\n",
    "def main():\n",
    "    result = []\n",
    "    print('탑마트 매장 크롤링 >>>')\n",
    "    getTopMartStoreInfo(result)\n",
    "\n",
    "\n",
    "\n",
    "if __name__ == '__main__':\n",
    "    main()"
   ]
  },
  {
   "cell_type": "code",
   "execution_count": null,
   "metadata": {},
   "outputs": [],
   "source": []
  }
 ],
 "metadata": {
  "kernelspec": {
   "display_name": "Python 3.10.5 64-bit",
   "language": "python",
   "name": "python3"
  },
  "language_info": {
   "codemirror_mode": {
    "name": "ipython",
    "version": 3
   },
   "file_extension": ".py",
   "mimetype": "text/x-python",
   "name": "python",
   "nbconvert_exporter": "python",
   "pygments_lexer": "ipython3",
   "version": "3.10.5"
  },
  "orig_nbformat": 4,
  "vscode": {
   "interpreter": {
    "hash": "beedbe2faf2f7048d727558d0bc3221e7eba2a0b921cac4d4771b2feb8f74b30"
   }
  }
 },
 "nbformat": 4,
 "nbformat_minor": 2
}
